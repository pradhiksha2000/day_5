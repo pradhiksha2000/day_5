{
  "nbformat": 4,
  "nbformat_minor": 0,
  "metadata": {
    "colab": {
      "name": "day_5.ipynb",
      "provenance": [],
      "authorship_tag": "ABX9TyMgcWmmyZQ8DTDcJ7HckgHL",
      "include_colab_link": true
    },
    "kernelspec": {
      "name": "python3",
      "display_name": "Python 3"
    },
    "language_info": {
      "name": "python"
    }
  },
  "cells": [
    {
      "cell_type": "markdown",
      "metadata": {
        "id": "view-in-github",
        "colab_type": "text"
      },
      "source": [
        "<a href=\"https://colab.research.google.com/github/pradhiksha2000/day_5/blob/main/day_5.ipynb\" target=\"_parent\"><img src=\"https://colab.research.google.com/assets/colab-badge.svg\" alt=\"Open In Colab\"/></a>"
      ]
    },
    {
      "cell_type": "code",
      "metadata": {
        "id": "Mzt7TWG-_T6E"
      },
      "source": [
        "#Importing libraries\n",
        "\n",
        "import numpy as np\n",
        "import matplotlib.pyplot as plt\n",
        "import pandas as pd"
      ],
      "execution_count": 3,
      "outputs": []
    },
    {
      "cell_type": "code",
      "metadata": {
        "id": "QIEvAyeX_nTT"
      },
      "source": [
        "#import the dataset\n",
        "\n",
        "dataset = pd.read_csv(\"/content/Salary_Data.csv\")\n",
        "\n",
        "x = dataset.iloc[:, :-1].values\n",
        "y = dataset.iloc[:, -1].values"
      ],
      "execution_count": 4,
      "outputs": []
    },
    {
      "cell_type": "code",
      "metadata": {
        "id": "NwjkPwqi_nRN"
      },
      "source": [
        "#Split the dataset into test and train sets\n",
        "from sklearn.model_selection import train_test_split\n",
        "\n",
        "x_train, x_test, y_train, y_test = train_test_split(x, y, test_size = 1/3)"
      ],
      "execution_count": 5,
      "outputs": []
    },
    {
      "cell_type": "code",
      "metadata": {
        "colab": {
          "base_uri": "https://localhost:8080/"
        },
        "id": "h9IFCGEe_nOh",
        "outputId": "abd5d966-9ae6-48bb-ebf1-20db9fabe5f5"
      },
      "source": [
        "print(x_train)\n",
        "print(x_test)\n",
        "print(y_train)\n",
        "print(y_test)"
      ],
      "execution_count": 6,
      "outputs": [
        {
          "output_type": "stream",
          "text": [
            "[[ 3.7]\n",
            " [ 2.2]\n",
            " [ 3.9]\n",
            " [10.3]\n",
            " [ 4. ]\n",
            " [ 2. ]\n",
            " [ 3.2]\n",
            " [ 8.7]\n",
            " [ 4. ]\n",
            " [ 4.5]\n",
            " [ 8.2]\n",
            " [ 3.2]\n",
            " [ 5.1]\n",
            " [ 3. ]\n",
            " [ 1.1]\n",
            " [ 4.1]\n",
            " [ 1.5]\n",
            " [ 7.9]\n",
            " [ 6.8]\n",
            " [ 9.6]]\n",
            "[[ 5.9]\n",
            " [10.5]\n",
            " [ 7.1]\n",
            " [ 1.3]\n",
            " [ 2.9]\n",
            " [ 4.9]\n",
            " [ 6. ]\n",
            " [ 9. ]\n",
            " [ 5.3]\n",
            " [ 9.5]]\n",
            "[ 57189.  39891.  63218. 122391.  55794.  43525.  54445. 109431.  56957.\n",
            "  61111. 113812.  64445.  66029.  60150.  39343.  57081.  37731. 101302.\n",
            "  91738. 112635.]\n",
            "[ 81363. 121872.  98273.  46205.  56642.  67938.  93940. 105582.  83088.\n",
            " 116969.]\n"
          ],
          "name": "stdout"
        }
      ]
    },
    {
      "cell_type": "code",
      "metadata": {
        "colab": {
          "base_uri": "https://localhost:8080/"
        },
        "id": "7gUr1r7__nML",
        "outputId": "78a6c468-ad3f-4f5a-ad61-b553c70b184f"
      },
      "source": [
        "#training the simple linear regression model\n",
        "\n",
        "from sklearn.linear_model import LinearRegression\n",
        "slr = LinearRegression()\n",
        "slr.fit(x_train, y_train)"
      ],
      "execution_count": 8,
      "outputs": [
        {
          "output_type": "execute_result",
          "data": {
            "text/plain": [
              "LinearRegression(copy_X=True, fit_intercept=True, n_jobs=None, normalize=False)"
            ]
          },
          "metadata": {
            "tags": []
          },
          "execution_count": 8
        }
      ]
    },
    {
      "cell_type": "code",
      "metadata": {
        "id": "4Gga98h9_nJj"
      },
      "source": [
        "#Predictin the test set results\n",
        "\n",
        "y_pred = slr.predict(x_test)"
      ],
      "execution_count": 10,
      "outputs": []
    },
    {
      "cell_type": "code",
      "metadata": {
        "colab": {
          "base_uri": "https://localhost:8080/"
        },
        "id": "WzOCJyb6_nG-",
        "outputId": "d736fe28-c5a5-4241-8965-94bd2028cc64"
      },
      "source": [
        "y_pred"
      ],
      "execution_count": 11,
      "outputs": [
        {
          "output_type": "execute_result",
          "data": {
            "text/plain": [
              "array([ 80626.52023703, 125380.66603735,  92301.51479363,  35872.37443671,\n",
              "        51439.03384552,  70897.35810653,  81599.43645008, 110786.92284159,\n",
              "        74789.02295873, 115651.50390684])"
            ]
          },
          "metadata": {
            "tags": []
          },
          "execution_count": 11
        }
      ]
    },
    {
      "cell_type": "code",
      "metadata": {
        "id": "cTICuLkDAjBY"
      },
      "source": [
        "[ 60150.  63218.  61111.  98273.  37731.  46205.  39891.  56957. 116969.\n",
        "  83088.]"
      ],
      "execution_count": null,
      "outputs": []
    },
    {
      "cell_type": "code",
      "metadata": {
        "colab": {
          "base_uri": "https://localhost:8080/"
        },
        "id": "dyNSXooN_nAy",
        "outputId": "6f7d30b1-7f05-4490-a662-18829b0c4ae7"
      },
      "source": [
        "x_test"
      ],
      "execution_count": 13,
      "outputs": [
        {
          "output_type": "execute_result",
          "data": {
            "text/plain": [
              "array([[ 5.9],\n",
              "       [10.5],\n",
              "       [ 7.1],\n",
              "       [ 1.3],\n",
              "       [ 2.9],\n",
              "       [ 4.9],\n",
              "       [ 6. ],\n",
              "       [ 9. ],\n",
              "       [ 5.3],\n",
              "       [ 9.5]])"
            ]
          },
          "metadata": {
            "tags": []
          },
          "execution_count": 13
        }
      ]
    },
    {
      "cell_type": "code",
      "metadata": {
        "colab": {
          "base_uri": "https://localhost:8080/",
          "height": 295
        },
        "id": "6t5zaYHiAT9p",
        "outputId": "191bebb9-065d-48bd-fedd-2eb67f0b0496"
      },
      "source": [
        "#Visualize the training set data\n",
        "\n",
        "plt.scatter(x_train, y_train, color = \"blue\")\n",
        "plt.plot(x_train, slr.predict(x_train), color = \"green\")\n",
        "plt.title(\"Simple Linear Regression Model\")\n",
        "plt.xlabel(\"Experience\")\n",
        "plt.ylabel(\"Salary\")\n",
        "\n",
        "plt.show()"
      ],
      "execution_count": 14,
      "outputs": [
        {
          "output_type": "display_data",
          "data": {
            "image/png": "[encoded data removed]",
            "text/plain": [
              "<Figure size 432x288 with 1 Axes>"
            ]
          },
          "metadata": {
            "tags": [],
            "needs_background": "light"
          }
        }
      ]
    },
    {
      "cell_type": "code",
      "metadata": {
        "colab": {
          "base_uri": "https://localhost:8080/",
          "height": 295
        },
        "id": "yPpAHtBZAYvj",
        "outputId": "022f61dd-2653-4de6-90d1-8332b299026d"
      },
      "source": [
        "#Visualize the test set data\n",
        "\n",
        "plt.scatter(x_test, y_test, color = \"blue\")\n",
        "plt.plot(x_train, slr.predict(x_train), color = \"green\")\n",
        "plt.title(\"Simple Linear Regression Model\")\n",
        "plt.xlabel(\"Experience\")\n",
        "plt.ylabel(\"Salary\")\n",
        "\n",
        "plt.show()"
      ],
      "execution_count": 15,
      "outputs": [
        {
          "output_type": "display_data",
          "data": {
            "image/png": "[encoded data removed]",
            "text/plain": [
              "<Figure size 432x288 with 1 Axes>"
            ]
          },
          "metadata": {
            "tags": [],
            "needs_background": "light"
          }
        }
      ]
    }
  ]
}